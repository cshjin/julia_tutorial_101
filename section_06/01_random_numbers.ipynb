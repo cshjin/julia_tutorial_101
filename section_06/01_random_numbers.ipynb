{
 "cells": [
  {
   "cell_type": "markdown",
   "metadata": {},
   "source": [
    "# 6.1 Random numbers\n"
   ]
  },
  {
   "cell_type": "code",
   "execution_count": 1,
   "metadata": {},
   "outputs": [],
   "source": [
    "using Random"
   ]
  },
  {
   "cell_type": "code",
   "execution_count": 2,
   "metadata": {},
   "outputs": [
    {
     "name": "stdout",
     "output_type": "stream",
     "text": [
      "0.5406697241038126\n"
     ]
    }
   ],
   "source": [
    "# generate a random number between 0 and 1\n",
    "println(rand())"
   ]
  },
  {
   "cell_type": "code",
   "execution_count": 3,
   "metadata": {},
   "outputs": [
    {
     "name": "stdout",
     "output_type": "stream",
     "text": [
      "2\n",
      "6\n",
      "3\n"
     ]
    }
   ],
   "source": [
    "# pick a random element from a given collection\n",
    "for i in 1:3\n",
    "  println(rand([1, 2, 3, 4, 5, 6]))\n",
    "end"
   ]
  },
  {
   "cell_type": "code",
   "execution_count": 4,
   "metadata": {},
   "outputs": [
    {
     "name": "stdout",
     "output_type": "stream",
     "text": [
      "UInt8[0xb1, 0x73, 0xbd, 0x2f, 0x0e]\n"
     ]
    }
   ],
   "source": [
    "# populate an array with random values\n",
    "arr = rand(UInt8, 5)\n",
    "println(arr)"
   ]
  },
  {
   "cell_type": "code",
   "execution_count": 5,
   "metadata": {},
   "outputs": [
    {
     "name": "stdout",
     "output_type": "stream",
     "text": [
      "CBBACDAC\n",
      "eompwe\n"
     ]
    }
   ],
   "source": [
    "# generate a random string, default length is 8\n",
    "println(randstring(\"ABCD\"))\n",
    "println(randstring('a':'z', 6))"
   ]
  },
  {
   "cell_type": "code",
   "execution_count": 6,
   "metadata": {},
   "outputs": [
    {
     "name": "stdout",
     "output_type": "stream",
     "text": [
      "[\"A\", \"E\", \"U\", \"O\", \"I\"]\n"
     ]
    }
   ],
   "source": [
    "# shuffle a list of elements\n",
    "vowels = [\"A\", \"E\", \"I\", \"O\", \"U\"]\n",
    "Random.shuffle!(vowels)\n",
    "println(vowels)"
   ]
  },
  {
   "cell_type": "code",
   "execution_count": 7,
   "metadata": {},
   "outputs": [
    {
     "name": "stdout",
     "output_type": "stream",
     "text": [
      "0.5498162706194022\n",
      "0.5257731429324131\n",
      "-------------\n",
      "0.5498162706194022\n",
      "0.5257731429324131\n"
     ]
    }
   ],
   "source": [
    "# use the seed function to control the random number generator\n",
    "Random.seed!(1000)\n",
    "println(rand())\n",
    "println(rand())\n",
    "\n",
    "println(\"-------------\")\n",
    "\n",
    "Random.seed!(1000)\n",
    "println(rand())\n",
    "println(rand())\n"
   ]
  }
 ],
 "metadata": {
  "kernelspec": {
   "display_name": "Julia 1.8.5",
   "language": "julia",
   "name": "julia-1.8"
  },
  "language_info": {
   "file_extension": ".jl",
   "mimetype": "application/julia",
   "name": "julia",
   "version": "1.8.5"
  },
  "orig_nbformat": 4
 },
 "nbformat": 4,
 "nbformat_minor": 2
}
