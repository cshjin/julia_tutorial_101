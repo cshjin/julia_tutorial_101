{
 "cells": [
  {
   "cell_type": "markdown",
   "metadata": {},
   "source": [
    "# 6.6 Sorting data"
   ]
  },
  {
   "cell_type": "code",
   "execution_count": 1,
   "metadata": {},
   "outputs": [
    {
     "name": "stdout",
     "output_type": "stream",
     "text": [
      "[-15, -7, -3, 0, 2, 5, 8, 9, 11]\n",
      "[11, 9, 8, 5, 2, 0, -3, -7, -15]\n",
      "[0, 2, -3, 5, -7, 8, 9, 11, -15]\n",
      "[0, 2, -3, 5, -7, 8, 9, 11, -15]\n"
     ]
    }
   ],
   "source": [
    "arr1 = [2, 8, -3, -15, 5, -7, 9, 0, 11]\n",
    "\n",
    "# sort the data in ascending order\n",
    "println(sort(arr1))\n",
    "\n",
    "# sort the data in descending order\n",
    "println(sort(arr1, rev=true))\n",
    "\n",
    "# sort the data by a simple transformation, by absolute value\n",
    "result = sort(arr1, by=abs)\n",
    "println(result)\n",
    "\n",
    "# sort the data by a more complex transformation\n",
    "println(sort(arr1, by=x->x^2))"
   ]
  },
  {
   "cell_type": "code",
   "execution_count": 2,
   "metadata": {},
   "outputs": [
    {
     "name": "stdout",
     "output_type": "stream",
     "text": [
      "true\n",
      "false\n"
     ]
    }
   ],
   "source": [
    "# check to see if an array is already sorted\n",
    "arrtup = [(1, 2), (2, 1), (3, 5), (4, 0)]\n",
    "println(issorted(arrtup, by=x -> x[1]))\n",
    "println(issorted(arrtup, by=x -> x[2]))"
   ]
  },
  {
   "cell_type": "code",
   "execution_count": 3,
   "metadata": {},
   "outputs": [
    {
     "name": "stdout",
     "output_type": "stream",
     "text": [
      "MyRect[MyRect(12, 22), MyRect(10, 18), MyRect(7, 12), MyRect(9, 30)]\n"
     ]
    }
   ],
   "source": [
    "# Sorting custom types\n",
    "struct MyRect\n",
    "    length::Int\n",
    "    width::Int\n",
    "end\n",
    "\n",
    "arr2 = [MyRect(12, 22), MyRect(10, 18),MyRect(7, 12),MyRect(9, 30)]\n",
    "println(arr2)"
   ]
  },
  {
   "cell_type": "code",
   "execution_count": 4,
   "metadata": {},
   "outputs": [
    {
     "name": "stdout",
     "output_type": "stream",
     "text": [
      "MyRect[MyRect(7, 12), MyRect(10, 18), MyRect(12, 22), MyRect(9, 30)]\n"
     ]
    }
   ],
   "source": [
    "# declare a custom sorting function\n",
    "function comparearea(rect1::MyRect, rect2::MyRect)\n",
    "    area1 = rect1.length * rect1.width\n",
    "    area2 = rect2.length * rect2.width\n",
    "\n",
    "    return area1 < area2\n",
    "end\n",
    "\n",
    "sort!(arr2, lt = comparearea)\n",
    "println(arr2)"
   ]
  },
  {
   "cell_type": "code",
   "execution_count": null,
   "metadata": {},
   "outputs": [],
   "source": []
  }
 ],
 "metadata": {
  "kernelspec": {
   "display_name": "Julia 1.8.5",
   "language": "julia",
   "name": "julia-1.8"
  },
  "language_info": {
   "file_extension": ".jl",
   "mimetype": "application/julia",
   "name": "julia",
   "version": "1.8.5"
  },
  "orig_nbformat": 4
 },
 "nbformat": 4,
 "nbformat_minor": 2
}
