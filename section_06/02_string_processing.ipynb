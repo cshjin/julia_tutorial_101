{
 "cells": [
  {
   "cell_type": "markdown",
   "metadata": {},
   "source": [
    "# 6.2 Strings Processing"
   ]
  },
  {
   "cell_type": "code",
   "execution_count": 1,
   "metadata": {},
   "outputs": [
    {
     "name": "stdout",
     "output_type": "stream",
     "text": [
      "String length: 5\n",
      "Size of string: 8\n",
      "String length 8\n",
      "Last index 10\n"
     ]
    }
   ],
   "source": [
    "# simple string operations - length, size\n",
    "mystr = \"Ångström\"\n",
    "teststr = \"jμΛIα\" # test string with some Greek characters\n",
    "println(\"String length: \", length(teststr))\n",
    "println(\"Size of string: \", sizeof(teststr))\n",
    "println(\"String length \", length(mystr))\n",
    "println(\"Last index \", sizeof(mystr))"
   ]
  },
  {
   "cell_type": "code",
   "execution_count": 2,
   "metadata": {},
   "outputs": [
    {
     "name": "stdout",
     "output_type": "stream",
     "text": [
      "Hello World\n"
     ]
    }
   ],
   "source": [
    "# concatenation and repetition operators\n",
    "teststr = \"Hello \" * \"World\"\n",
    "println(teststr)"
   ]
  },
  {
   "cell_type": "code",
   "execution_count": 3,
   "metadata": {},
   "outputs": [
    {
     "name": "stdout",
     "output_type": "stream",
     "text": [
      "ABCDABCDABCD\n"
     ]
    }
   ],
   "source": [
    "# repeat a string using `hat` operator\n",
    "teststr = \"ABCD\"^3\n",
    "println(teststr)"
   ]
  },
  {
   "cell_type": "code",
   "execution_count": 4,
   "metadata": {},
   "outputs": [
    {
     "name": "stdout",
     "output_type": "stream",
     "text": [
      "1:5\n",
      "true\n"
     ]
    }
   ],
   "source": [
    "# search for substrings\n",
    "teststr = \"Julia programming is awesome\"\n",
    "println(findnext(\"Julia\", teststr, 1))\n",
    "println(occursin(\"some\", teststr))"
   ]
  },
  {
   "cell_type": "code",
   "execution_count": 5,
   "metadata": {},
   "outputs": [
    {
     "name": "stdout",
     "output_type": "stream",
     "text": [
      "         Test String\n",
      "Test String*********\n"
     ]
    }
   ],
   "source": [
    "# pad strings either left or right\n",
    "teststr = lpad(\"Test String\", 20)\n",
    "println(teststr)\n",
    "teststr = rpad(\"Test String\", 20, '*')\n",
    "println(teststr)"
   ]
  },
  {
   "cell_type": "code",
   "execution_count": 6,
   "metadata": {},
   "outputs": [
    {
     "name": "stdout",
     "output_type": "stream",
     "text": [
      "Lions, Tigers, Bears and test\n"
     ]
    }
   ],
   "source": [
    "# create a string from an array\n",
    "arr = [\"Lions\",\"Tigers\",\"Bears\", \"test\"]\n",
    "# for last two elements, use \" and \" instead of \", \"\n",
    "teststr = join(arr, \", \", \" and \")\n",
    "println(teststr)\n"
   ]
  }
 ],
 "metadata": {
  "kernelspec": {
   "display_name": "Julia 1.8.5",
   "language": "julia",
   "name": "julia-1.8"
  },
  "language_info": {
   "file_extension": ".jl",
   "mimetype": "application/julia",
   "name": "julia",
   "version": "1.8.5"
  },
  "orig_nbformat": 4
 },
 "nbformat": 4,
 "nbformat_minor": 2
}
