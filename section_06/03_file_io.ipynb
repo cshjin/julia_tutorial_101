{
 "cells": [
  {
   "cell_type": "markdown",
   "metadata": {},
   "source": [
    "# 6.3 File I/O"
   ]
  },
  {
   "cell_type": "code",
   "execution_count": 1,
   "metadata": {},
   "outputs": [
    {
     "name": "stdout",
     "output_type": "stream",
     "text": [
      "Current working directory: /home/jinh/tmp/julia_tutorial_101/section_06\n"
     ]
    }
   ],
   "source": [
    "# get the current workding dir\n",
    "print(\"Current working directory: \")\n",
    "println(pwd())"
   ]
  },
  {
   "cell_type": "code",
   "execution_count": 2,
   "metadata": {},
   "outputs": [
    {
     "name": "stdout",
     "output_type": "stream",
     "text": [
      "Current directory contents: [\"01_random_numbers.ipynb\", \"02_string_processing.ipynb\", \"03_file_io.ipynb\", \"04_dates_and_times.ipynb\", \"05_custom_types.ipynb\", \"06_sorting_data.ipynb\", \"datetime_finished.jl\", \"datetime_start.jl\", \"files_finished.jl\", \"files_start.jl\", \"random_finished.jl\", \"random_start.jl\", \"sort_finished.jl\", \"sort_start.jl\", \"strproc_finished.jl\", \"strproc_start.jl\", \"types_finished.jl\", \"types_start.jl\"]\n"
     ]
    }
   ],
   "source": [
    "# read the contents of the current directory\n",
    "print(\"Current directory contents: \")\n",
    "println(readdir())"
   ]
  },
  {
   "cell_type": "code",
   "execution_count": 3,
   "metadata": {},
   "outputs": [],
   "source": [
    "# open a file for writing\n",
    "function createafile(filename::String, text::String = \"This is some text\")\n",
    "    io = open(filename, \"w\")\n",
    "    write(io, text)\n",
    "    close(io)\n",
    "end\n",
    "\n",
    "createafile(\"mytestfile.txt\", \"Hello world!\")"
   ]
  },
  {
   "cell_type": "code",
   "execution_count": 4,
   "metadata": {},
   "outputs": [],
   "source": [
    "# append data to an existing file\n",
    "function appendtoafile(filename::String, text::String)\n",
    "  io = open(filename, \"a\")\n",
    "  write(io, text)\n",
    "  close(io)\n",
    "end\n",
    "\n",
    "appendtoafile(\"mytestfile.txt\", \"\\nThis text is added\")"
   ]
  },
  {
   "cell_type": "code",
   "execution_count": 5,
   "metadata": {},
   "outputs": [
    {
     "data": {
      "text/plain": [
       "\"newfilename.txt\""
      ]
     },
     "execution_count": 5,
     "metadata": {},
     "output_type": "execute_result"
    }
   ],
   "source": [
    "# rename an existing file\n",
    "function renamefile()\n",
    "  mv(\"mytestfile.txt\", \"newfilename.txt\")\n",
    "end\n",
    "\n",
    "renamefile()"
   ]
  },
  {
   "cell_type": "code",
   "execution_count": 6,
   "metadata": {},
   "outputs": [],
   "source": [
    "# delete a file\n",
    "rm(\"newfilename.txt\")\n"
   ]
  }
 ],
 "metadata": {
  "kernelspec": {
   "display_name": "Julia 1.8.5",
   "language": "julia",
   "name": "julia-1.8"
  },
  "language_info": {
   "file_extension": ".jl",
   "mimetype": "application/julia",
   "name": "julia",
   "version": "1.8.5"
  },
  "orig_nbformat": 4
 },
 "nbformat": 4,
 "nbformat_minor": 2
}
