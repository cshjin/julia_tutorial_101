{
 "cells": [
  {
   "cell_type": "markdown",
   "metadata": {},
   "source": [
    "# 6.4 Dates and Times"
   ]
  },
  {
   "cell_type": "code",
   "execution_count": 1,
   "metadata": {},
   "outputs": [
    {
     "name": "stdout",
     "output_type": "stream",
     "text": [
      "Date and DateTime objects:\n",
      "2018-12-22\n",
      "2019-07-28T00:00:00\n"
     ]
    }
   ],
   "source": [
    "# import the Dates module to use the code it contains\n",
    "using Dates\n",
    "\n",
    "# create new Date and DateTime\n",
    "d1 = Date(2018, 12, 22)\n",
    "dt1 = DateTime(2019, 7, 28)\n",
    "\n",
    "println(\"Date and DateTime objects:\")\n",
    "println(d1, \"\\n\", dt1)\n"
   ]
  },
  {
   "cell_type": "code",
   "execution_count": 2,
   "metadata": {},
   "outputs": [
    {
     "name": "stdout",
     "output_type": "stream",
     "text": [
      "2020-10-10\n",
      "Date\n"
     ]
    }
   ],
   "source": [
    "# parse a date or date/time string using DateFormat\n",
    "df1 = DateFormat(\"y-m-d\")\n",
    "d2 = Date(\"2020-10-10\", df1)\n",
    "println(d2)\n",
    "println(typeof(d2))\n",
    "\n"
   ]
  },
  {
   "cell_type": "code",
   "execution_count": 3,
   "metadata": {},
   "outputs": [
    {
     "name": "stdout",
     "output_type": "stream",
     "text": [
      "true\n",
      "147 days\n",
      "-31536000000 milliseconds\n",
      "2019\n",
      "30\n",
      "7\n",
      "Sunday\n",
      "false\n",
      "2019-07-22\n",
      "2019-07-31\n"
     ]
    }
   ],
   "source": [
    "\n",
    "# differences between Dates and Times\n",
    "d3 = Date(2019, 12, 22)\n",
    "d4 = Date(2019, 7, 28)\n",
    "dt3 = DateTime(2000, 01, 01)\n",
    "dt4 = DateTime(2000, 12, 31)\n",
    "\n",
    "println(d4 < d3)\n",
    "# return days\n",
    "println(d3 - d4)\n",
    "# return milliseconds\n",
    "println(dt3 - dt4)\n",
    "\n",
    "# access the values of a date or time\n",
    "println(Dates.year(d3))\n",
    "println(Dates.week(d4))\n",
    "\n",
    "# query functions\n",
    "println(Dates.dayofweek(d3))\n",
    "println(Dates.dayname(d3))\n",
    "println(Dates.isleapyear(d3))\n",
    "\n",
    "# adjuster functions\n",
    "println(Dates.firstdayofweek(d4))\n",
    "println(Dates.lastdayofmonth(d4))"
   ]
  }
 ],
 "metadata": {
  "kernelspec": {
   "display_name": "Julia 1.8.5",
   "language": "julia",
   "name": "julia-1.8"
  },
  "language_info": {
   "file_extension": ".jl",
   "mimetype": "application/julia",
   "name": "julia",
   "version": "1.8.5"
  },
  "orig_nbformat": 4
 },
 "nbformat": 4,
 "nbformat_minor": 2
}
