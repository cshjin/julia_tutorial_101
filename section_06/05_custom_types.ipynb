{
 "cells": [
  {
   "cell_type": "markdown",
   "metadata": {},
   "source": [
    "# 6.5 Custom types"
   ]
  },
  {
   "cell_type": "code",
   "execution_count": 1,
   "metadata": {},
   "outputs": [],
   "source": [
    "# Create a new custom type using the struct keyword\n",
    "struct MyType\n",
    "  field1::Int\n",
    "  field2::String\n",
    "end"
   ]
  },
  {
   "cell_type": "code",
   "execution_count": 2,
   "metadata": {},
   "outputs": [
    {
     "name": "stdout",
     "output_type": "stream",
     "text": [
      "MyType(10, \"ABC\")\n",
      "10\n"
     ]
    }
   ],
   "source": [
    "# instantiate the type\n",
    "x = MyType(10, \"ABC\")\n",
    "println(x)\n",
    "println(x.field1)"
   ]
  },
  {
   "cell_type": "code",
   "execution_count": 3,
   "metadata": {},
   "outputs": [
    {
     "name": "stdout",
     "output_type": "stream",
     "text": [
      "ERROR: \n",
      "ErrorException(\"setfield!: immutable struct of type MyType cannot be changed\")\n"
     ]
    }
   ],
   "source": [
    "# types are immutable by default\n",
    "try\n",
    "  x.field1 = 20\n",
    "catch ex\n",
    "  println(\"ERROR: \\n\", ex)\n",
    "end"
   ]
  },
  {
   "cell_type": "code",
   "execution_count": 4,
   "metadata": {},
   "outputs": [],
   "source": [
    "# use \"mutable\" to make a type that can be altered\n",
    "mutable struct MyMutableType\n",
    "  field1::Int\n",
    "  field2::String\n",
    "end"
   ]
  },
  {
   "cell_type": "code",
   "execution_count": 5,
   "metadata": {},
   "outputs": [
    {
     "name": "stdout",
     "output_type": "stream",
     "text": [
      "MyMutableType(10, \"DEF\")\n"
     ]
    }
   ],
   "source": [
    "x = MyMutableType(10, \"ABC\")\n",
    "x.field2 = \"DEF\"\n",
    "println(x)"
   ]
  },
  {
   "cell_type": "code",
   "execution_count": 6,
   "metadata": {},
   "outputs": [
    {
     "name": "stdout",
     "output_type": "stream",
     "text": [
      "true\n",
      "true\n",
      "true\n"
     ]
    }
   ],
   "source": [
    "# use the isa() method to see if a variable is a given type\n",
    "println(isa(x, MyMutableType))\n",
    "\n",
    "# OR\n",
    "println(typeof(x) <: MyMutableType)\n",
    "\n",
    "# OR\n",
    "println(typeof(x) == MyMutableType)"
   ]
  }
 ],
 "metadata": {
  "kernelspec": {
   "display_name": "Julia 1.8.5",
   "language": "julia",
   "name": "julia-1.8"
  },
  "language_info": {
   "file_extension": ".jl",
   "mimetype": "application/julia",
   "name": "julia",
   "version": "1.8.5"
  },
  "orig_nbformat": 4
 },
 "nbformat": 4,
 "nbformat_minor": 2
}
