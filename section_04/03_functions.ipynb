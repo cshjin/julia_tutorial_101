{
 "cells": [
  {
   "cell_type": "markdown",
   "metadata": {},
   "source": [
    "# 4.3 Functions"
   ]
  },
  {
   "cell_type": "code",
   "execution_count": 1,
   "metadata": {},
   "outputs": [
    {
     "name": "stdout",
     "output_type": "stream",
     "text": [
      "This is a function\n",
      "25\n"
     ]
    }
   ],
   "source": [
    "# Functions are defined with the function keyword and are usually\n",
    "# lowercase names, optionally with underscores if they are hard to read\n",
    "function myfunc(a, b)\n",
    "  println(\"This is a function\")\n",
    "  # functions return the last computed value even with no return statement\n",
    "  return a + b\n",
    "end\n",
    "\n",
    "result = myfunc(10, 15)\n",
    "println(result)\n"
   ]
  },
  {
   "cell_type": "code",
   "execution_count": 2,
   "metadata": {},
   "outputs": [
    {
     "name": "stdout",
     "output_type": "stream",
     "text": [
      "50\n",
      "25\n"
     ]
    }
   ],
   "source": [
    "# function arguments can have default values\n",
    "function foo(a, b, z=10)\n",
    "  return (a + b) * z\n",
    "end\n",
    "println(foo(2, 3))\n",
    "println(foo(2, 3, 5))"
   ]
  },
  {
   "cell_type": "code",
   "execution_count": 3,
   "metadata": {},
   "outputs": [
    {
     "name": "stdout",
     "output_type": "stream",
     "text": [
      "90\n",
      "45\n",
      "45\n"
     ]
    }
   ],
   "source": [
    "# you can also use keyword arguments - define them after a semicolon\n",
    "function bar(a, b; multiplier=10)\n",
    "  return (a + b) * multiplier\n",
    "end\n",
    "println(bar(4, 5))\n",
    "println(bar(4, 5, multiplier=5))\n",
    "println(bar(multiplier=5, 4, 5))"
   ]
  },
  {
   "cell_type": "code",
   "execution_count": 4,
   "metadata": {},
   "outputs": [
    {
     "name": "stdout",
     "output_type": "stream",
     "text": [
      "8\n"
     ]
    }
   ],
   "source": [
    "# The Julia shorthand way of defining a function \n",
    "myfunc3(x, y) = (a = x - 1; 2a + y)\n",
    "result = myfunc3(3, 4)\n",
    "println(result)"
   ]
  },
  {
   "cell_type": "code",
   "execution_count": 6,
   "metadata": {},
   "outputs": [
    {
     "name": "stdout",
     "output_type": "stream",
     "text": [
      "16\n",
      "20\n"
     ]
    }
   ],
   "source": [
    "# use the `...` notation for variable arguments\n",
    "function summing(args...)\n",
    "    sum = 0\n",
    "    for a in args\n",
    "        sum += a\n",
    "    end\n",
    "    return sum\n",
    "end\n",
    "println(summing(1, 5, 10))\n",
    "println(summing(2, 4, 6, 8))\n",
    "\n"
   ]
  }
 ],
 "metadata": {
  "kernelspec": {
   "display_name": "Julia 1.8.5",
   "language": "julia",
   "name": "julia-1.8"
  },
  "language_info": {
   "file_extension": ".jl",
   "mimetype": "application/julia",
   "name": "julia",
   "version": "1.8.5"
  },
  "orig_nbformat": 4
 },
 "nbformat": 4,
 "nbformat_minor": 2
}
