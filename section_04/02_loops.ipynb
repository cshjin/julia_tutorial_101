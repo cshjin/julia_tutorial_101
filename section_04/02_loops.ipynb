{
 "cells": [
  {
   "cell_type": "markdown",
   "metadata": {},
   "source": [
    "# 4.2 Loops"
   ]
  },
  {
   "cell_type": "code",
   "execution_count": 1,
   "metadata": {},
   "outputs": [
    {
     "name": "stdout",
     "output_type": "stream",
     "text": [
      "i: 1\n",
      "i: 2\n",
      "i: 3\n",
      "i: 4\n",
      "i: 5\n",
      "i: 6\n",
      "i: 7\n",
      "i: 8\n",
      "i: 9\n",
      "i: 10\n"
     ]
    }
   ],
   "source": [
    "# basic for loop\n",
    "for i in 1:10\n",
    "    println(\"i: \", i)\n",
    "end"
   ]
  },
  {
   "cell_type": "code",
   "execution_count": 2,
   "metadata": {},
   "outputs": [
    {
     "name": "stdout",
     "output_type": "stream",
     "text": [
      "Bingo\n",
      "Bango\n",
      "Bongo\n",
      "Irving\n"
     ]
    }
   ],
   "source": [
    "# can be any iterable, not just a range\n",
    "for i in [\"Bingo\", \"Bango\", \"Bongo\", \"Irving\"]\n",
    "  println(i)\n",
    "end"
   ]
  },
  {
   "cell_type": "code",
   "execution_count": 3,
   "metadata": {},
   "outputs": [
    {
     "name": "stdout",
     "output_type": "stream",
     "text": [
      "1, 2\n",
      "1, 3\n",
      "1, 4\n",
      "2, 2\n",
      "2, 3\n",
      "2, 4\n",
      "3, 2\n",
      "3, 3\n",
      "3, 4\n"
     ]
    }
   ],
   "source": [
    "# Nested for loop\n",
    "for i in 1:3, j in 2:4\n",
    "  println(i, \", \", j)\n",
    "end"
   ]
  },
  {
   "cell_type": "code",
   "execution_count": 4,
   "metadata": {},
   "outputs": [
    {
     "name": "stdout",
     "output_type": "stream",
     "text": [
      "1\n",
      "2\n",
      "3\n",
      "4\n",
      "5\n"
     ]
    }
   ],
   "source": [
    "# while loop\n",
    "i = 1\n",
    "while i <= 5\n",
    "  println(i)\n",
    "  i += 1\n",
    "end"
   ]
  },
  {
   "cell_type": "code",
   "execution_count": 5,
   "metadata": {},
   "outputs": [
    {
     "name": "stdout",
     "output_type": "stream",
     "text": [
      "1, Giants\n",
      "2, Wizards\n",
      "3, Dragons\n",
      "4, Knights\n",
      "5, Kings\n"
     ]
    }
   ],
   "source": [
    "# Using enumeration within a loop\n",
    "teams = (\"Giants\", \"Wizards\", \"Dragons\", \"Knights\", \"Kings\")\n",
    "for (idx, val) in enumerate(teams)\n",
    "  println(idx, \", \", val)\n",
    "end"
   ]
  },
  {
   "cell_type": "code",
   "execution_count": 6,
   "metadata": {},
   "outputs": [
    {
     "name": "stdout",
     "output_type": "stream",
     "text": [
      "1\n",
      "2\n",
      "4\n",
      "5\n",
      "7\n"
     ]
    }
   ],
   "source": [
    "# Loop control - breaking and continuing\n",
    "for i in 1:10\n",
    "  if i % 3 == 0\n",
    "    continue # skip this loop iteration\n",
    "  elseif i > 7\n",
    "    break # stop the loop\n",
    "  end\n",
    "  println(i)\n",
    "end"
   ]
  }
 ],
 "metadata": {
  "kernelspec": {
   "display_name": "Julia 1.8.5",
   "language": "julia",
   "name": "julia-1.8"
  },
  "language_info": {
   "file_extension": ".jl",
   "mimetype": "application/julia",
   "name": "julia",
   "version": "1.8.5"
  },
  "orig_nbformat": 4
 },
 "nbformat": 4,
 "nbformat_minor": 2
}
