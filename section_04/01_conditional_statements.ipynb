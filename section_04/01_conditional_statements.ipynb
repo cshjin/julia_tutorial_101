{
 "cells": [
  {
   "cell_type": "markdown",
   "metadata": {},
   "source": [
    "## 4.1 Conditional Statements\n"
   ]
  },
  {
   "cell_type": "code",
   "execution_count": 1,
   "metadata": {},
   "outputs": [
    {
     "name": "stdout",
     "output_type": "stream",
     "text": [
      "x is small\n"
     ]
    }
   ],
   "source": [
    "# Create an if-else conditional\n",
    "x = 5\n",
    "\n",
    "if x < 10\n",
    "    println(\"x is small\")\n",
    "else\n",
    "    println(\"x is big\")\n",
    "end"
   ]
  },
  {
   "cell_type": "code",
   "execution_count": 2,
   "metadata": {},
   "outputs": [
    {
     "name": "stdout",
     "output_type": "stream",
     "text": [
      "x is medium\n"
     ]
    }
   ],
   "source": [
    "# multiple conditions can be specified with if-elseif-else\n",
    "x = 17\n",
    "\n",
    "if x < 10\n",
    "  println(\"x is small\")\n",
    "elseif x >= 10 && x < 25\n",
    "  println(\"x is medium\")\n",
    "else\n",
    "  println(\"x is big\")\n",
    "end"
   ]
  },
  {
   "cell_type": "code",
   "execution_count": 3,
   "metadata": {},
   "outputs": [
    {
     "name": "stdout",
     "output_type": "stream",
     "text": [
      "x is 10 or greater\n"
     ]
    }
   ],
   "source": [
    "# The ternary operator can condense a comparison\n",
    "println(x < 10 ? \"x is less than 10\" : \"x is 10 or greater\")"
   ]
  },
  {
   "cell_type": "markdown",
   "metadata": {},
   "source": []
  }
 ],
 "metadata": {
  "kernelspec": {
   "display_name": "Julia 1.8.5",
   "language": "julia",
   "name": "julia-1.8"
  },
  "language_info": {
   "file_extension": ".jl",
   "mimetype": "application/julia",
   "name": "julia",
   "version": "1.8.5"
  },
  "orig_nbformat": 4
 },
 "nbformat": 4,
 "nbformat_minor": 2
}
