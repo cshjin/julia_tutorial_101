{
 "cells": [
  {
   "cell_type": "markdown",
   "metadata": {},
   "source": [
    "# 4.4 Exception Handling\n",
    "\n",
    "Exceptions provide a way for a program to handle one or more unexpected conditions"
   ]
  },
  {
   "cell_type": "code",
   "execution_count": 1,
   "metadata": {},
   "outputs": [
    {
     "name": "stdout",
     "output_type": "stream",
     "text": [
      "3.0\n",
      "This section always runs\n"
     ]
    }
   ],
   "source": [
    "arg = 9\n",
    "\n",
    "# the try / catch / finally construct is used to work with exceptions\n",
    "try\n",
    "    x = sqrt(arg)\n",
    "    println(x)\n",
    "catch ex\n",
    "    println(ex)\n",
    "finally\n",
    "    println(\"This section always runs\")\n",
    "end\n",
    "\n"
   ]
  },
  {
   "cell_type": "code",
   "execution_count": 2,
   "metadata": {},
   "outputs": [
    {
     "name": "stdout",
     "output_type": "stream",
     "text": [
      "DomainError(-9.0, \"sqrt will only return a complex result if called with a complex argument. Try sqrt(Complex(x)).\")\n",
      "This section always runs\n"
     ]
    }
   ],
   "source": [
    "arg = -9\n",
    "\n",
    "# the try / catch / finally construct is used to work with exceptions\n",
    "try\n",
    "    x = sqrt(arg)\n",
    "    println(x)\n",
    "catch ex\n",
    "    println(ex)\n",
    "finally\n",
    "    println(\"This section always runs\")\n",
    "end\n",
    "\n"
   ]
  }
 ],
 "metadata": {
  "kernelspec": {
   "display_name": "Julia 1.8.5",
   "language": "julia",
   "name": "julia-1.8"
  },
  "language_info": {
   "file_extension": ".jl",
   "mimetype": "application/julia",
   "name": "julia",
   "version": "1.8.5"
  },
  "orig_nbformat": 4
 },
 "nbformat": 4,
 "nbformat_minor": 2
}
