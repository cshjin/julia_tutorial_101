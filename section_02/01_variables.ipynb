{
 "cells": [
  {
   "cell_type": "markdown",
   "metadata": {},
   "source": [
    "# 2.1 Variables\n",
    "\n",
    "5 basic types of data:\n",
    "* `Integers`, `float`, `booleans`, `strings`, and `characters`"
   ]
  },
  {
   "cell_type": "code",
   "execution_count": 1,
   "metadata": {},
   "outputs": [
    {
     "name": "stdout",
     "output_type": "stream",
     "text": [
      "1\n",
      "2.0\n",
      "This is a string\n",
      "J\n",
      "true\n"
     ]
    }
   ],
   "source": [
    "# Variable names typically are lowercase.\n",
    "first = 1\n",
    "second = 2.0\n",
    "# double quotes are used for strings\n",
    "stringvar = \"This is a string\"\n",
    "# single quotes are used for characters\n",
    "initial = 'J'\n",
    "boolval = true\n",
    "\n",
    "println(first)\n",
    "println(second)\n",
    "println(stringvar)\n",
    "println(initial)\n",
    "println(boolval)"
   ]
  },
  {
   "cell_type": "code",
   "execution_count": 2,
   "metadata": {},
   "outputs": [
    {
     "name": "stdout",
     "output_type": "stream",
     "text": [
      "1.0\n"
     ]
    }
   ],
   "source": [
    "# variables can be redefined and change type\n",
    "first = 1.0\n",
    "println(first)"
   ]
  },
  {
   "cell_type": "code",
   "execution_count": 3,
   "metadata": {},
   "outputs": [
    {
     "name": "stdout",
     "output_type": "stream",
     "text": [
      "3.14\n",
      "3.14159\n"
     ]
    },
    {
     "name": "stderr",
     "output_type": "stream",
     "text": [
      "WARNING: redefinition of constant MYCONSTANT. This may fail, cause incorrect answers, or produce other errors.\n"
     ]
    },
    {
     "name": "stdout",
     "output_type": "stream",
     "text": [
      "ErrorException(\"invalid redefinition of constant MYCONSTANT\")"
     ]
    }
   ],
   "source": [
    "# Constant values are declared with const and are all uppercase\n",
    "const MYCONSTANT = 3.14\n",
    "println(MYCONSTANT)\n",
    "\n",
    "# this is a warning\n",
    "MYCONSTANT = 3.14159\n",
    "println(MYCONSTANT)\n",
    "\n",
    "# this is an error\n",
    "try\n",
    "  MYCONSTANT = \"hello\"\n",
    "  println(MYCONSTANT)\n",
    "catch e\n",
    "  print(e)\n",
    "end\n"
   ]
  },
  {
   "cell_type": "code",
   "execution_count": 4,
   "metadata": {},
   "outputs": [
    {
     "name": "stdout",
     "output_type": "stream",
     "text": [
      "MethodError(convert, (String, 10), 0x0000000000007ec2)\n"
     ]
    }
   ],
   "source": [
    "# Type Annotation identifies a variable as a particular type\n",
    "function testfunc()\n",
    "    x::String = \"some text\"\n",
    "    # the next line causes an error, x is defined as an Int\n",
    "    x = 10\n",
    "end\n",
    "\n",
    "# this is an error due to redefined in a different type\n",
    "try\n",
    "    testfunc()\n",
    "catch e\n",
    "    println(e)\n",
    "end"
   ]
  }
 ],
 "metadata": {
  "kernelspec": {
   "display_name": "Julia 1.8.5",
   "language": "julia",
   "name": "julia-1.8"
  },
  "language_info": {
   "file_extension": ".jl",
   "mimetype": "application/julia",
   "name": "julia",
   "version": "1.8.5"
  },
  "orig_nbformat": 4
 },
 "nbformat": 4,
 "nbformat_minor": 2
}
