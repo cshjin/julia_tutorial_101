{
 "cells": [
  {
   "cell_type": "markdown",
   "metadata": {},
   "source": [
    "# 2.2 Strings\n",
    "\n",
    "Julia has two types `char` and `string`."
   ]
  },
  {
   "cell_type": "code",
   "execution_count": 1,
   "metadata": {},
   "outputs": [
    {
     "name": "stdout",
     "output_type": "stream",
     "text": [
      "120\n",
      "x\n"
     ]
    }
   ],
   "source": [
    "# Julia has a specific character type\n",
    "mychar = 'x'\n",
    "println(Int(mychar))\n",
    "println(Char(120))"
   ]
  },
  {
   "cell_type": "code",
   "execution_count": 2,
   "metadata": {},
   "outputs": [
    {
     "name": "stdout",
     "output_type": "stream",
     "text": [
      "32\n",
      "T\n",
      "a\n",
      "his is a sample string in Juli\n"
     ]
    }
   ],
   "source": [
    "# Strings are defined using double quotes or triple quotes\n",
    "mystr = \"This is a sample string in Julia\"\n",
    "myotherstr = \"\"\"\n",
    "    Hello There\n",
    "    This is a string\n",
    "    \"\"\"\n",
    "\n",
    "# Get the length of a string\n",
    "println(length(mystr))\n",
    "\n",
    "# Access individual characters - note that they are 1-indexed\n",
    "println(mystr[1])\n",
    "println(mystr[end])\n",
    "println(mystr[2:end - 1])"
   ]
  },
  {
   "cell_type": "code",
   "execution_count": 3,
   "metadata": {},
   "outputs": [
    {
     "name": "stdout",
     "output_type": "stream",
     "text": [
      "This is a sample string in Julia\n"
     ]
    }
   ],
   "source": [
    "# Iterate over characters\n",
    "for c in mystr\n",
    "    print(c)\n",
    "end\n",
    "println()"
   ]
  },
  {
   "cell_type": "code",
   "execution_count": 4,
   "metadata": {},
   "outputs": [
    {
     "name": "stdout",
     "output_type": "stream",
     "text": [
      "Hello, World.\n"
     ]
    }
   ],
   "source": [
    "# String concatenation using *\n",
    "w1 = \"Hello\"\n",
    "w2 = \"World\"\n",
    "println(w1 * \", \" * w2 * \".\")"
   ]
  },
  {
   "cell_type": "code",
   "execution_count": 5,
   "metadata": {},
   "outputs": [
    {
     "name": "stdout",
     "output_type": "stream",
     "text": [
      "The result of 5 + 10 is 15\n"
     ]
    }
   ],
   "source": [
    "# String interpolation\n",
    "a = 5\n",
    "b = 10\n",
    "println(\"The result of $a + $b is $(a + b)\")\n"
   ]
  }
 ],
 "metadata": {
  "kernelspec": {
   "display_name": "Julia 1.8.5",
   "language": "julia",
   "name": "julia-1.8"
  },
  "language_info": {
   "file_extension": ".jl",
   "mimetype": "application/julia",
   "name": "julia",
   "version": "1.8.5"
  },
  "orig_nbformat": 4
 },
 "nbformat": 4,
 "nbformat_minor": 2
}
