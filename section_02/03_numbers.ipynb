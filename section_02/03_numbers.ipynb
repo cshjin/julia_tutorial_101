{
 "cells": [
  {
   "cell_type": "markdown",
   "metadata": {},
   "source": [
    "# 2.3 Numbers\n",
    "\n",
    "Julia defines a set of specific sub-types for numbers\n",
    "* Signed integers: `Int`, `Int8`, `Int16`, `Int32`, `Int64`, `BigInt`.\n",
    "* unsigned integers: `UInt`, `UInt8`, `UInt16`, `UInt32`, `UInt64`"
   ]
  },
  {
   "cell_type": "code",
   "execution_count": 1,
   "metadata": {},
   "outputs": [
    {
     "name": "stdout",
     "output_type": "stream",
     "text": [
      "Int16\n",
      "Int64\n",
      "UInt16\n"
     ]
    }
   ],
   "source": [
    "a = Int16(1)\n",
    "println(typeof(a))\n",
    "\n",
    "b = Int(2000)\n",
    "println(typeof(b))\n",
    "\n",
    "c = UInt16(1)\n",
    "println(typeof(c))"
   ]
  },
  {
   "cell_type": "code",
   "execution_count": 2,
   "metadata": {},
   "outputs": [
    {
     "name": "stdout",
     "output_type": "stream",
     "text": [
      "127\n",
      "2147483647\n",
      "-9223372036854775808\n"
     ]
    }
   ],
   "source": [
    "# typemax() and typemin() will provide max and min values\n",
    "println(typemax(Int8))\n",
    "println(typemax(Int32))\n",
    "println(typemin(Int64))"
   ]
  },
  {
   "cell_type": "code",
   "execution_count": 3,
   "metadata": {},
   "outputs": [
    {
     "name": "stdout",
     "output_type": "stream",
     "text": [
      "64\n"
     ]
    }
   ],
   "source": [
    "# Use the WORDSIZE property to see what type of system this is \n",
    "println(Sys.WORD_SIZE)"
   ]
  },
  {
   "cell_type": "code",
   "execution_count": 4,
   "metadata": {},
   "outputs": [
    {
     "name": "stdout",
     "output_type": "stream",
     "text": [
      "InexactError(:trunc, UInt8, 300)\n"
     ]
    }
   ],
   "source": [
    "# trying to assign a number too large for the type\n",
    "# will fail and give an error\n",
    "# 300 is too large for an 8 bit value\n",
    "try\n",
    "  a = UInt8(300) \n",
    "catch e\n",
    "  println(e)\n",
    "end"
   ]
  },
  {
   "cell_type": "code",
   "execution_count": 5,
   "metadata": {},
   "outputs": [
    {
     "name": "stdout",
     "output_type": "stream",
     "text": [
      "Inf\n",
      "0.0\n",
      "NaN\n"
     ]
    }
   ],
   "source": [
    "# special values represent Infinity and not-a-number\n",
    "println(1.0 / 0.0)\n",
    "println(1.0 / Inf)\n",
    "println(0.0 / 0.0)\n"
   ]
  },
  {
   "cell_type": "code",
   "execution_count": 6,
   "metadata": {},
   "outputs": [
    {
     "name": "stdout",
     "output_type": "stream",
     "text": [
      "0.0\n",
      "1\n"
     ]
    }
   ],
   "source": [
    "# zero() and one() functions produce values for a given type\n",
    "println(zero(Float64))\n",
    "println(one(UInt32))"
   ]
  },
  {
   "cell_type": "code",
   "execution_count": null,
   "metadata": {},
   "outputs": [],
   "source": []
  }
 ],
 "metadata": {
  "kernelspec": {
   "display_name": "Julia 1.8.5",
   "language": "julia",
   "name": "julia-1.8"
  },
  "language_info": {
   "file_extension": ".jl",
   "mimetype": "application/julia",
   "name": "julia",
   "version": "1.8.5"
  },
  "orig_nbformat": 4
 },
 "nbformat": 4,
 "nbformat_minor": 2
}
