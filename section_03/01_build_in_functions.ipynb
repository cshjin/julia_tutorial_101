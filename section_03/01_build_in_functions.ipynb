{
 "cells": [
  {
   "cell_type": "markdown",
   "metadata": {},
   "source": [
    "# 3.1 Build-in functions\n"
   ]
  },
  {
   "cell_type": "code",
   "execution_count": 1,
   "metadata": {},
   "outputs": [
    {
     "name": "stdout",
     "output_type": "stream",
     "text": [
      "30.0\n",
      "31.0\n",
      "30.0\n",
      "29.0\n",
      "30.0\n",
      "15\n"
     ]
    }
   ],
   "source": [
    "# numeric functions\n",
    "# round, floor, ceil, abs\n",
    "x = round(30.5)\n",
    "println(x)\n",
    "\n",
    "x = round(30.5, RoundUp)\n",
    "println(x)\n",
    "\n",
    "x = round(30.5, RoundDown)\n",
    "println(x)\n",
    "\n",
    "y = 29.95\n",
    "println(floor(y))\n",
    "println(ceil(y))\n",
    "\n",
    "z = -15\n",
    "println(abs(z))\n",
    "\n"
   ]
  },
  {
   "cell_type": "code",
   "execution_count": 2,
   "metadata": {},
   "outputs": [
    {
     "name": "stdout",
     "output_type": "stream",
     "text": [
      "Hello there "
     ]
    },
    {
     "name": "stdout",
     "output_type": "stream",
     "text": [
      "world!\n",
      "\u001b[0mThis is some text\n",
      "\u001b[0m\u001b[1mThis is some text\u001b[22m\n",
      "\u001b[31m\u001b[1mThis is some text\u001b[22m\u001b[39m\n"
     ]
    }
   ],
   "source": [
    "# text i/o\n",
    "\n",
    "# print, println\n",
    "print(\"Hello \")\n",
    "print(\"there \")\n",
    "println(\"world!\")\n",
    "\n",
    "# printstyled\n",
    "thestr = \"This is some text\"\n",
    "printstyled(thestr)\n",
    "println()\n",
    "printstyled(thestr, bold=true)\n",
    "println()\n",
    "printstyled(thestr, bold=true, color=:red)\n",
    "println()"
   ]
  },
  {
   "cell_type": "code",
   "execution_count": 3,
   "metadata": {},
   "outputs": [
    {
     "name": "stdout",
     "output_type": "stream",
     "text": [
      "Name? test\n"
     ]
    }
   ],
   "source": [
    "print(\"Name? \")\n",
    "str = readline()\n",
    "println(str)"
   ]
  },
  {
   "cell_type": "code",
   "execution_count": 8,
   "metadata": {},
   "outputs": [
    {
     "name": "stdout",
     "output_type": "stream",
     "text": [
      "true\n",
      "false\n",
      "true\n",
      "false\n",
      "true\n",
      "true\n",
      "true\n",
      "false\n"
     ]
    }
   ],
   "source": [
    "# \"is\" functions\n",
    "println(isascii(\"abc\"))\n",
    "println(isascii(\"αβγ\"))\n",
    "\n",
    "println(isdigit('9'))\n",
    "println(isdigit('a'))\n",
    "\n",
    "println(isspace(' '))\n",
    "println(isspace('\\r'))\n",
    "println(isspace('\\n'))\n",
    "println(isspace('A'))"
   ]
  }
 ],
 "metadata": {
  "kernelspec": {
   "display_name": "Julia 1.8.5",
   "language": "julia",
   "name": "julia-1.8"
  },
  "language_info": {
   "file_extension": ".jl",
   "mimetype": "application/julia",
   "name": "julia",
   "version": "1.8.5"
  },
  "orig_nbformat": 4
 },
 "nbformat": 4,
 "nbformat_minor": 2
}
