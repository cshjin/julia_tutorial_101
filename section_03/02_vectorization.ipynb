{
 "cells": [
  {
   "cell_type": "markdown",
   "metadata": {},
   "source": [
    "## 3.2 Vector"
   ]
  },
  {
   "cell_type": "code",
   "execution_count": 1,
   "metadata": {},
   "outputs": [
    {
     "name": "stdout",
     "output_type": "stream",
     "text": [
      "[2, 4, 6, 8, 10]\n",
      "[4, 8, 12, 16, 20]\n"
     ]
    }
   ],
   "source": [
    "arr1 = [2, 4, 6, 8, 10]\n",
    "println(arr1)\n",
    "\n",
    "# dot operator: apply an operation to a vector\n",
    "result = arr1 .* 2\n",
    "println(result)"
   ]
  },
  {
   "cell_type": "code",
   "execution_count": 2,
   "metadata": {},
   "outputs": [
    {
     "name": "stdout",
     "output_type": "stream",
     "text": [
      "[1.4142135623730951, 2.0, 2.449489742783178, 2.8284271247461903, 3.1622776601683795]\n",
      "[6, 12, 18, 24, 30]\n"
     ]
    }
   ],
   "source": [
    "# functions can also be applied to collections this way\n",
    "result = sqrt.(arr1)\n",
    "println(result)\n",
    "\n",
    "# custom functions can also be used this way\n",
    "# define a custom function: similar to `lambda` in Python\n",
    "f(x) = 3x\n",
    "result = f.(arr1)\n",
    "println(result)"
   ]
  },
  {
   "cell_type": "code",
   "execution_count": 4,
   "metadata": {},
   "outputs": [
    {
     "name": "stdout",
     "output_type": "stream",
     "text": [
      "[\"1\", \"2\"]\n",
      "UndefVarError(:delete)\n"
     ]
    }
   ],
   "source": [
    "# vector of strings\n",
    "arr2 = [\"1\", \"2\"]\n",
    "println(arr2)\n",
    "\n",
    "# some error\n",
    "# f.(arr2)\n",
    "try\n",
    "  delete(f)\n",
    "catch e\n",
    "  println(e)\n",
    "end"
   ]
  }
 ],
 "metadata": {
  "kernelspec": {
   "display_name": "Julia 1.8.5",
   "language": "julia",
   "name": "julia-1.8"
  },
  "language_info": {
   "file_extension": ".jl",
   "mimetype": "application/julia",
   "name": "julia",
   "version": "1.8.5"
  },
  "orig_nbformat": 4
 },
 "nbformat": 4,
 "nbformat_minor": 2
}
