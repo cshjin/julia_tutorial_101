{
 "cells": [
  {
   "cell_type": "markdown",
   "metadata": {},
   "source": [
    "## 3.3 Convert Data Types"
   ]
  },
  {
   "cell_type": "code",
   "execution_count": 1,
   "metadata": {},
   "outputs": [
    {
     "data": {
      "text/plain": [
       "\"30.0\""
      ]
     },
     "execution_count": 1,
     "metadata": {},
     "output_type": "execute_result"
    }
   ],
   "source": [
    "# declare some basic data types\n",
    "x = 10\n",
    "y = 20.0\n",
    "z = \"40\"\n",
    "g = \"30.0\""
   ]
  },
  {
   "cell_type": "code",
   "execution_count": 2,
   "metadata": {},
   "outputs": [
    {
     "name": "stdout",
     "output_type": "stream",
     "text": [
      "J\n",
      "74\n"
     ]
    }
   ],
   "source": [
    "# Convert an integer to a character and vice versa\n",
    "c = Char(74)\n",
    "println(c)\n",
    "\n",
    "i = Int('J')\n",
    "println(i)"
   ]
  },
  {
   "cell_type": "code",
   "execution_count": 3,
   "metadata": {},
   "outputs": [
    {
     "name": "stdout",
     "output_type": "stream",
     "text": [
      "Int64 Float64\n",
      "10.0, 20\n"
     ]
    }
   ],
   "source": [
    "println(typeof(x), \" \", typeof(y))\n",
    "# convert between types\n",
    "flt1 = Float32(x)\n",
    "int1 = Int16(y)\n",
    "println(flt1, \", \", int1)"
   ]
  },
  {
   "cell_type": "code",
   "execution_count": 4,
   "metadata": {},
   "outputs": [
    {
     "name": "stdout",
     "output_type": "stream",
     "text": [
      "40 30.0 20.0\n"
     ]
    }
   ],
   "source": [
    "# parse values from a string\n",
    "a = parse(Int, z)\n",
    "b = parse(Float64, g)\n",
    "\n",
    "# convert float to string\n",
    "c = string(y)\n",
    "\n",
    "println(a, \" \", b, \" \", c)\n"
   ]
  },
  {
   "cell_type": "code",
   "execution_count": 5,
   "metadata": {},
   "outputs": [
    {
     "name": "stdout",
     "output_type": "stream",
     "text": [
      "ę\n",
      "InexactError(:trunc, UInt8, 0x00000119)\n"
     ]
    }
   ],
   "source": [
    "# attempting to convert a data type that won't fit is an error\n",
    "x = Char(281)\n",
    "println(x)\n",
    "\n",
    "# got an error\n",
    "try\n",
    "  a = UInt8(x)\n",
    "  println(a)\n",
    "catch e\n",
    "  println(e)\n",
    "end"
   ]
  },
  {
   "cell_type": "code",
   "execution_count": 39,
   "metadata": {},
   "outputs": [
    {
     "name": "stdout",
     "output_type": "stream",
     "text": [
      "255"
     ]
    }
   ],
   "source": [
    "print(typemax(UInt8))"
   ]
  },
  {
   "cell_type": "code",
   "execution_count": 40,
   "metadata": {},
   "outputs": [
    {
     "ename": "InexactError",
     "evalue": "InexactError: trunc(UInt8, 281)",
     "output_type": "error",
     "traceback": [
      "InexactError: trunc(UInt8, 281)\n",
      "\n",
      "Stacktrace:\n",
      " [1] throw_inexacterror(f::Symbol, #unused#::Type{UInt8}, val::UInt32)\n",
      "   @ Core ./boot.jl:614\n",
      " [2] checked_trunc_uint\n",
      "   @ ./boot.jl:644 [inlined]\n",
      " [3] toUInt8\n",
      "   @ ./boot.jl:710 [inlined]\n",
      " [4] UInt8\n",
      "   @ ./boot.jl:766 [inlined]\n",
      " [5] UInt8(c::Char)\n",
      "   @ Base ./char.jl:175\n",
      " [6] top-level scope\n",
      "   @ ~/tmp/julia_course/Ex_Files_Learning_Julia/Exercise Files/Ch 3/Chap03.ipynb:1"
     ]
    }
   ],
   "source": [
    "a = UInt8(x)\n",
    "println(a)"
   ]
  },
  {
   "cell_type": "code",
   "execution_count": 42,
   "metadata": {},
   "outputs": [
    {
     "name": "stdout",
     "output_type": "stream",
     "text": [
      "10\n"
     ]
    }
   ],
   "source": [
    "x = 10\n",
    "a = UInt8(x)\n",
    "println(a)"
   ]
  },
  {
   "cell_type": "code",
   "execution_count": null,
   "metadata": {},
   "outputs": [],
   "source": []
  }
 ],
 "metadata": {
  "kernelspec": {
   "display_name": "Julia 1.8.5",
   "language": "julia",
   "name": "julia-1.8"
  },
  "language_info": {
   "file_extension": ".jl",
   "mimetype": "application/julia",
   "name": "julia",
   "version": "1.8.5"
  },
  "orig_nbformat": 4
 },
 "nbformat": 4,
 "nbformat_minor": 2
}
