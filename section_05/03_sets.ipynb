{
 "cells": [
  {
   "cell_type": "markdown",
   "metadata": {},
   "source": [
    "# 5.3 Sets\n",
    "\n",
    "A set is a collection of elements like an array or dictionary but a set can only contain one of each element and the ordering of elements is not important"
   ]
  },
  {
   "cell_type": "code",
   "execution_count": 1,
   "metadata": {},
   "outputs": [
    {
     "name": "stdout",
     "output_type": "stream",
     "text": [
      "Set(Any[5.0, 2, \"a\"])\n"
     ]
    }
   ],
   "source": [
    "# create a new empty set\n",
    "set1 = Set()\n",
    "push!(set1, \"a\", 2, 5.0)\n",
    "println(set1)"
   ]
  },
  {
   "cell_type": "code",
   "execution_count": 2,
   "metadata": {},
   "outputs": [
    {
     "name": "stdout",
     "output_type": "stream",
     "text": [
      "Set([5, 4, 7, 2, 3, 1])\n",
      "MethodError(convert, (Int64, \"abc\"), 0x0000000000007ec1)\n",
      "cannot add different types to a set\n"
     ]
    }
   ],
   "source": [
    "# create a set from a collection of values\n",
    "set2 = Set([1, 2, 3, 4, 2, 5, 7, 1])\n",
    "println(set2)\n",
    "# When Julia determines a set type, you can't add different types\n",
    "try\n",
    "  push!(set2, \"abc\")\n",
    "catch e\n",
    "  println(e)\n",
    "finally\n",
    "  println(\"cannot add different types to a set\")\n",
    "end"
   ]
  },
  {
   "cell_type": "code",
   "execution_count": 3,
   "metadata": {},
   "outputs": [
    {
     "name": "stdout",
     "output_type": "stream",
     "text": [
      "Set([\"indigo\", \"yellow\", \"orange\", \"blue\", \"violet\", \"green\", \"red\"])\n",
      "true\n"
     ]
    }
   ],
   "source": [
    "rainbow = Set{String}()\n",
    "push!(rainbow, \"red\", \"orange\", \"yellow\", \"green\", \"blue\", \"indigo\", \"violet\")\n",
    "println(rainbow)\n",
    "\n",
    "println(\"red\" in rainbow)"
   ]
  },
  {
   "cell_type": "code",
   "execution_count": 4,
   "metadata": {},
   "outputs": [
    {
     "name": "stdout",
     "output_type": "stream",
     "text": [
      "ERROR: \n",
      "MethodError(getindex, (Set([\"indigo\", \"yellow\", \"orange\", \"blue\", \"violet\", \"green\", \"red\"]), 1), 0x0000000000007ec1)\n"
     ]
    }
   ],
   "source": [
    "# however, since there's no order, something like an index causes an error\n",
    "try\n",
    "  println(rainbow[1])\n",
    "catch e\n",
    "  println(\"ERROR: \\n\", e)\n",
    "end"
   ]
  },
  {
   "cell_type": "code",
   "execution_count": 5,
   "metadata": {},
   "outputs": [
    {
     "name": "stdout",
     "output_type": "stream",
     "text": [
      "Set([\"yellow\", \"blue\", \"green\", \"red\"])\n",
      "Set([\"indigo\", \"coral\", \"lavender\", \"green\", \"pink\", \"teal\", \"yellow\", \"orange\", \"blue\", \"violet\", \"red\"])\n",
      "Set([\"indigo\", \"orange\", \"violet\"])\n"
     ]
    }
   ],
   "source": [
    "# you can calculate set intersections, differences, and unions\n",
    "primarycolors = Set([\"red\",\"yellow\",\"green\",\"blue\"])\n",
    "pastels = Set([\"teal\",\"pink\",\"lavender\",\"coral\"])\n",
    "\n",
    "commoncolors = intersect(rainbow, primarycolors)\n",
    "println(commoncolors)\n",
    "\n",
    "allcolors = union(rainbow, pastels)\n",
    "println(allcolors)\n",
    "\n",
    "diffcolors = setdiff(rainbow, primarycolors)\n",
    "println(diffcolors)\n"
   ]
  }
 ],
 "metadata": {
  "kernelspec": {
   "display_name": "Julia 1.8.5",
   "language": "julia",
   "name": "julia-1.8"
  },
  "language_info": {
   "file_extension": ".jl",
   "mimetype": "application/julia",
   "name": "julia",
   "version": "1.8.5"
  },
  "orig_nbformat": 4
 },
 "nbformat": 4,
 "nbformat_minor": 2
}
