{
 "cells": [
  {
   "cell_type": "markdown",
   "metadata": {},
   "source": [
    "# 5.1 Data Structures\n"
   ]
  },
  {
   "cell_type": "code",
   "execution_count": 1,
   "metadata": {},
   "outputs": [
    {
     "name": "stdout",
     "output_type": "stream",
     "text": [
      "[1, 2, 3, 4, 5]\n",
      "Vector{Int64}\n",
      "5\n"
     ]
    }
   ],
   "source": [
    "# create an array using [] syntax\n",
    "arr = [1, 2, 3, 4, 5]\n",
    "println(arr)\n",
    "println(typeof(arr))\n",
    "println(length(arr))"
   ]
  },
  {
   "cell_type": "code",
   "execution_count": 2,
   "metadata": {},
   "outputs": [
    {
     "name": "stdout",
     "output_type": "stream",
     "text": [
      "Element at pos 2 is 2\n"
     ]
    }
   ],
   "source": [
    "# access an array element - array indexes are 1-based\n",
    "println(\"Element at pos 2 is \", arr[2])"
   ]
  },
  {
   "cell_type": "code",
   "execution_count": 3,
   "metadata": {},
   "outputs": [
    {
     "name": "stdout",
     "output_type": "stream",
     "text": [
      "Any[\"One\", 2, 3.0, -4]\n",
      "Vector{Any}\n"
     ]
    }
   ],
   "source": [
    "# arrays can hold different types of values\n",
    "arr2 = [\"One\", 2, 3.0, -4]\n",
    "println(arr2)\n",
    "println(typeof(arr2))"
   ]
  },
  {
   "cell_type": "code",
   "execution_count": 4,
   "metadata": {},
   "outputs": [
    {
     "name": "stdout",
     "output_type": "stream",
     "text": [
      "[1.0, 2.0, 3.0]\n"
     ]
    }
   ],
   "source": [
    "# declare an array with a particular type\n",
    "arr3 = Float64[]\n",
    "push!(arr3, 1.0, 2.0, 3.0)\n",
    "println(arr3)"
   ]
  },
  {
   "cell_type": "code",
   "execution_count": 5,
   "metadata": {},
   "outputs": [
    {
     "name": "stdout",
     "output_type": "stream",
     "text": [
      "[0.0, 0.0, 0.0, 0.0]\n",
      "[1.0, 1.0, 1.0, 1.0]\n",
      "[5, 5, 5, 5, 5, 5, 5]\n"
     ]
    }
   ],
   "source": [
    "# populate an array - fill wth default values\n",
    "arr4 = zeros(4)\n",
    "println(arr4)\n",
    "arr4 = ones(4)\n",
    "println(arr4)\n",
    "# fill (value, dim)\n",
    "arr5 = fill(5, 7)\n",
    "println(arr5)"
   ]
  },
  {
   "cell_type": "code",
   "execution_count": 6,
   "metadata": {},
   "outputs": [
    {
     "name": "stdout",
     "output_type": "stream",
     "text": [
      "[5, 4, 3, 2, 1]\n"
     ]
    }
   ],
   "source": [
    "# Array sorting using the sort function\n",
    "newarr = sort(arr, rev=true)\n",
    "println(newarr)"
   ]
  },
  {
   "cell_type": "code",
   "execution_count": 7,
   "metadata": {},
   "outputs": [
    {
     "name": "stdout",
     "output_type": "stream",
     "text": [
      "[1, 2, 3, 4, 5]\n"
     ]
    }
   ],
   "source": [
    "# sort! modifies the original array in place\n",
    "sort!(newarr)\n",
    "println(newarr)"
   ]
  },
  {
   "cell_type": "code",
   "execution_count": 8,
   "metadata": {},
   "outputs": [
    {
     "name": "stdout",
     "output_type": "stream",
     "text": [
      "1-2-3-4-5\n"
     ]
    }
   ],
   "source": [
    "# Convert to string with a delimiter\n",
    "strval = join(arr, \"-\")\n",
    "println(strval)"
   ]
  }
 ],
 "metadata": {
  "kernelspec": {
   "display_name": "Julia 1.8.5",
   "language": "julia",
   "name": "julia-1.8"
  },
  "language_info": {
   "file_extension": ".jl",
   "mimetype": "application/julia",
   "name": "julia",
   "version": "1.8.5"
  },
  "orig_nbformat": 4
 },
 "nbformat": 4,
 "nbformat_minor": 2
}
