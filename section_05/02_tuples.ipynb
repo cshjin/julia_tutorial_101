{
 "cells": [
  {
   "cell_type": "markdown",
   "metadata": {},
   "source": [
    "# 5.2 Tuples\n",
    "\n",
    "A tuple is a sequence of values and is immutable once defined like an array, it can contain different types"
   ]
  },
  {
   "cell_type": "code",
   "execution_count": 1,
   "metadata": {},
   "outputs": [
    {
     "name": "stdout",
     "output_type": "stream",
     "text": [
      "five\n",
      "(3.0, \"five\", 7)\n"
     ]
    }
   ],
   "source": [
    "# \n",
    "tup = (1, 3.0, \"five\", 7, '9')\n",
    "println(tup[3])\n",
    "println(tup[2:4])"
   ]
  },
  {
   "cell_type": "code",
   "execution_count": 2,
   "metadata": {},
   "outputs": [
    {
     "name": "stdout",
     "output_type": "stream",
     "text": [
      "1\n",
      "3.0\n",
      "five\n",
      "7\n",
      "9\n"
     ]
    }
   ],
   "source": [
    "# Tuples can be iterated over like arrays\n",
    "for i in tup\n",
    "  println(i)\n",
    "end"
   ]
  },
  {
   "cell_type": "code",
   "execution_count": 3,
   "metadata": {},
   "outputs": [
    {
     "name": "stdout",
     "output_type": "stream",
     "text": [
      "true\n",
      "false\n"
     ]
    }
   ],
   "source": [
    "# The \"in\" operator can be used to see if a tuple contains a value\n",
    "println(3 in tup)\n",
    "println(4 in tup)"
   ]
  },
  {
   "cell_type": "code",
   "execution_count": 4,
   "metadata": {},
   "outputs": [
    {
     "name": "stdout",
     "output_type": "stream",
     "text": [
      "(5, 6)\n",
      "2\n"
     ]
    }
   ],
   "source": [
    "# tuples can have multiple dimensions\n",
    "dimtup = ((1, 2), (3, 4), (5, 6))\n",
    "println(dimtup[3])\n",
    "println(dimtup[1][2])"
   ]
  },
  {
   "cell_type": "code",
   "execution_count": 5,
   "metadata": {},
   "outputs": [
    {
     "name": "stdout",
     "output_type": "stream",
     "text": [
      "MethodError(setindex!, ((1, 3.0, \"five\", 7, '9'), 11, 2), 0x0000000000007ec1)\n",
      "Attemping to modify a tuple will produce an error\n"
     ]
    }
   ],
   "source": [
    "# attempting to modify a tuple will produce an error\n",
    "try\n",
    "  tup[2] = 11\n",
    "catch e\n",
    "  println(e)\n",
    "finally\n",
    "  println(\"Attemping to modify a tuple will produce an error\")\n",
    "end"
   ]
  },
  {
   "cell_type": "code",
   "execution_count": 6,
   "metadata": {},
   "outputs": [
    {
     "name": "stdout",
     "output_type": "stream",
     "text": [
      "1\n",
      "1\n"
     ]
    }
   ],
   "source": [
    "namedtup = (a=1, b=\"two\", c='3')\n",
    "println(namedtup[1])\n",
    "println(namedtup.a)"
   ]
  }
 ],
 "metadata": {
  "kernelspec": {
   "display_name": "Julia 1.8.5",
   "language": "julia",
   "name": "julia-1.8"
  },
  "language_info": {
   "file_extension": ".jl",
   "mimetype": "application/julia",
   "name": "julia",
   "version": "1.8.5"
  },
  "orig_nbformat": 4
 },
 "nbformat": 4,
 "nbformat_minor": 2
}
