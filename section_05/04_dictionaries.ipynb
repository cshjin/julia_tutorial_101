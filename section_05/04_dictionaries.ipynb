{
 "cells": [
  {
   "cell_type": "markdown",
   "metadata": {},
   "source": [
    "# 5.4 Dictionaries\n",
    "\n",
    "Dictionaries map unique keys to individual values"
   ]
  },
  {
   "cell_type": "code",
   "execution_count": 1,
   "metadata": {},
   "outputs": [
    {
     "name": "stdout",
     "output_type": "stream",
     "text": [
      "Dict(\"c\" => 3, \"b\" => 2, \"a\" => 1)\n"
     ]
    }
   ],
   "source": [
    "# Create a new dictionary\n",
    "d1 = Dict(\"a\" => 1, \"b\" => 2, \"c\" => 3)\n",
    "println(d1)"
   ]
  },
  {
   "cell_type": "code",
   "execution_count": 2,
   "metadata": {},
   "outputs": [
    {
     "name": "stdout",
     "output_type": "stream",
     "text": [
      "Dict(\"key1\" => \"val1\")\n"
     ]
    }
   ],
   "source": [
    "# define dictionary with type of key and value\n",
    "d2 = Dict{String,String}()\n",
    "d2[\"key1\"] = \"val1\"\n",
    "println(d2)"
   ]
  },
  {
   "cell_type": "code",
   "execution_count": 3,
   "metadata": {},
   "outputs": [
    {
     "name": "stdout",
     "output_type": "stream",
     "text": [
      "2\n"
     ]
    }
   ],
   "source": [
    "# look up an item\n",
    "println(d1[\"b\"])"
   ]
  },
  {
   "cell_type": "code",
   "execution_count": 4,
   "metadata": {},
   "outputs": [
    {
     "name": "stdout",
     "output_type": "stream",
     "text": [
      "Dict(\"c\" => 3, \"b\" => 2, \"a\" => 1, \"d\" => 4)\n"
     ]
    }
   ],
   "source": [
    "# Add an item to a dictionary\n",
    "d1[\"d\"] = 4\n",
    "println(d1)"
   ]
  },
  {
   "cell_type": "code",
   "execution_count": 5,
   "metadata": {},
   "outputs": [
    {
     "name": "stdout",
     "output_type": "stream",
     "text": [
      "false\n",
      "false\n"
     ]
    }
   ],
   "source": [
    "# Test to see if an item is in a dictionary\n",
    "println(haskey(d1, \"e\"))\n",
    "\n",
    "# OR\n",
    "println(\"e\" in keys(d1))"
   ]
  },
  {
   "cell_type": "code",
   "execution_count": 6,
   "metadata": {},
   "outputs": [
    {
     "name": "stdout",
     "output_type": "stream",
     "text": [
      "Dict(\"b\" => 2, \"a\" => 1, \"d\" => 4)\n"
     ]
    }
   ],
   "source": [
    "# remove an item from a dictionary\n",
    "delete!(d1, \"c\")\n",
    "println(d1)"
   ]
  },
  {
   "cell_type": "code",
   "execution_count": 7,
   "metadata": {},
   "outputs": [
    {
     "name": "stdout",
     "output_type": "stream",
     "text": [
      "[\"b\", \"a\", \"d\"]\n",
      "[2, 1, 4]\n"
     ]
    }
   ],
   "source": [
    "# get all the keys and values as arrays\n",
    "println(keys(d1))\n",
    "println(values(d1))"
   ]
  },
  {
   "cell_type": "code",
   "execution_count": 8,
   "metadata": {},
   "outputs": [
    {
     "name": "stdout",
     "output_type": "stream",
     "text": [
      "b, 2\n",
      "a, 1\n",
      "d, 4\n"
     ]
    }
   ],
   "source": [
    "# Iterate over a dictionary's keys and values\n",
    "for (key, value) in d1\n",
    "  println(key, \", \", value)\n",
    "end"
   ]
  }
 ],
 "metadata": {
  "kernelspec": {
   "display_name": "Julia 1.8.5",
   "language": "julia",
   "name": "julia-1.8"
  },
  "language_info": {
   "file_extension": ".jl",
   "mimetype": "application/julia",
   "name": "julia",
   "version": "1.8.5"
  },
  "orig_nbformat": 4
 },
 "nbformat": 4,
 "nbformat_minor": 2
}
